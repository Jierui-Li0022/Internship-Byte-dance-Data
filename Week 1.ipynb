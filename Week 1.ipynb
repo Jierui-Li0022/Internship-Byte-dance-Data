{
 "cells": [
  {
   "cell_type": "code",
   "execution_count": 1,
   "id": "da285f1a-1387-4a78-90ae-52c05ecbee06",
   "metadata": {},
   "outputs": [],
   "source": [
    "import pandas as pd\n",
    "import numpy as np"
   ]
  },
  {
   "cell_type": "markdown",
   "id": "9d8422a9-bb26-4d08-ad96-c8885292f820",
   "metadata": {},
   "source": [
    "# Task 1.1"
   ]
  },
  {
   "cell_type": "markdown",
   "id": "dbc40e21-026b-45e6-b039-3693cd777197",
   "metadata": {},
   "source": [
    "# 1.Processing of login data"
   ]
  },
  {
   "cell_type": "code",
   "execution_count": 201,
   "id": "ec791ac5-9fb0-4a0c-800c-18553f1d30b7",
   "metadata": {},
   "outputs": [
    {
     "data": {
      "text/html": [
       "<div>\n",
       "<style scoped>\n",
       "    .dataframe tbody tr th:only-of-type {\n",
       "        vertical-align: middle;\n",
       "    }\n",
       "\n",
       "    .dataframe tbody tr th {\n",
       "        vertical-align: top;\n",
       "    }\n",
       "\n",
       "    .dataframe thead th {\n",
       "        text-align: right;\n",
       "    }\n",
       "</style>\n",
       "<table border=\"1\" class=\"dataframe\">\n",
       "  <thead>\n",
       "    <tr style=\"text-align: right;\">\n",
       "      <th></th>\n",
       "      <th>user_id</th>\n",
       "      <th>login_time</th>\n",
       "      <th>login_place</th>\n",
       "    </tr>\n",
       "  </thead>\n",
       "  <tbody>\n",
       "    <tr>\n",
       "      <th>0</th>\n",
       "      <td>用户3</td>\n",
       "      <td>2018/9/6 9:32</td>\n",
       "      <td>中国广东广州</td>\n",
       "    </tr>\n",
       "    <tr>\n",
       "      <th>1</th>\n",
       "      <td>用户3</td>\n",
       "      <td>2018/9/7 9:28</td>\n",
       "      <td>中国广东广州</td>\n",
       "    </tr>\n",
       "    <tr>\n",
       "      <th>2</th>\n",
       "      <td>用户3</td>\n",
       "      <td>2018/9/7 9:57</td>\n",
       "      <td>中国广东广州</td>\n",
       "    </tr>\n",
       "    <tr>\n",
       "      <th>3</th>\n",
       "      <td>用户3</td>\n",
       "      <td>2018/9/7 10:55</td>\n",
       "      <td>中国广东广州</td>\n",
       "    </tr>\n",
       "    <tr>\n",
       "      <th>4</th>\n",
       "      <td>用户3</td>\n",
       "      <td>2018/9/7 12:28</td>\n",
       "      <td>中国广东广州</td>\n",
       "    </tr>\n",
       "  </tbody>\n",
       "</table>\n",
       "</div>"
      ],
      "text/plain": [
       "  user_id      login_time login_place\n",
       "0     用户3   2018/9/6 9:32      中国广东广州\n",
       "1     用户3   2018/9/7 9:28      中国广东广州\n",
       "2     用户3   2018/9/7 9:57      中国广东广州\n",
       "3     用户3  2018/9/7 10:55      中国广东广州\n",
       "4     用户3  2018/9/7 12:28      中国广东广州"
      ]
     },
     "execution_count": 201,
     "metadata": {},
     "output_type": "execute_result"
    }
   ],
   "source": [
    "# 加载数据\n",
    "file_path = r\"C:\\Users\\Jerry\\Desktop\\2024暑实习\\login.csv\"\n",
    "df = pd.read_csv(file_path, encoding='gbk')\n",
    "df.head()"
   ]
  },
  {
   "cell_type": "code",
   "execution_count": 135,
   "id": "73dada20-1b49-46ef-aaf8-305e03e6c9cf",
   "metadata": {},
   "outputs": [
    {
     "name": "stdout",
     "output_type": "stream",
     "text": [
      "387144\n"
     ]
    }
   ],
   "source": [
    "print(len(df))"
   ]
  },
  {
   "cell_type": "code",
   "execution_count": 137,
   "id": "c8f77054-f37c-4698-ba92-c25a45251c77",
   "metadata": {},
   "outputs": [],
   "source": [
    "# 任务 1.1: 处理缺失值和重复值\n",
    "df = df.dropna()  # 删除缺失值行\n",
    "df.drop_duplicates(inplace=True)"
   ]
  },
  {
   "cell_type": "code",
   "execution_count": 139,
   "id": "6c20c6f7-c2f8-4848-9378-9a954f41c1ec",
   "metadata": {},
   "outputs": [
    {
     "name": "stdout",
     "output_type": "stream",
     "text": [
      "387144\n"
     ]
    }
   ],
   "source": [
    "print(len(df))"
   ]
  },
  {
   "cell_type": "code",
   "execution_count": 141,
   "id": "3b909317-8ab2-4b79-bd61-4a2782794114",
   "metadata": {},
   "outputs": [
    {
     "name": "stdout",
     "output_type": "stream",
     "text": [
      "缺失值情况：\n",
      "user_id        0\n",
      "login_time     0\n",
      "login_place    0\n",
      "dtype: int64\n",
      "重复行情况：\n",
      "0\n"
     ]
    }
   ],
   "source": [
    "# 检查缺失值\n",
    "missing_values = df.isnull().sum()\n",
    "print(\"缺失值情况：\")\n",
    "print(missing_values)\n",
    "\n",
    "# 检查重复行\n",
    "duplicate_rows = df.duplicated().sum()\n",
    "print(\"重复行情况：\")\n",
    "print(duplicate_rows)"
   ]
  },
  {
   "cell_type": "code",
   "execution_count": 143,
   "id": "51705ce4-94c2-43ab-ab6a-6acd26b52552",
   "metadata": {},
   "outputs": [],
   "source": [
    "# 保存处理结果\n",
    "task1_1_1_path = r\"C:\\Users\\Jerry\\Desktop\\2024暑实习\\task1_1_1_login.csv\"\n",
    "df.to_csv(task1_1_1_path, index=False, encoding='gb2312')"
   ]
  },
  {
   "cell_type": "code",
   "execution_count": 145,
   "id": "db1b82e0-fbb4-46c3-86d7-066b28951759",
   "metadata": {},
   "outputs": [
    {
     "name": "stdout",
     "output_type": "stream",
     "text": [
      "  user_id      login_time login_place\n",
      "0     用户3   2018/9/6 9:32      中国广东广州\n",
      "1     用户3   2018/9/7 9:28      中国广东广州\n",
      "2     用户3   2018/9/7 9:57      中国广东广州\n",
      "3     用户3  2018/9/7 10:55      中国广东广州\n",
      "4     用户3  2018/9/7 12:28      中国广东广州\n"
     ]
    }
   ],
   "source": [
    "# 加载处理后的文件并查看\n",
    "processed_file_path = r\"C:\\Users\\Jerry\\Desktop\\2024暑实习\\task1_1_1_login.csv\"\n",
    "processed_df = pd.read_csv(processed_file_path, encoding='gbk')\n",
    "print(processed_df.head())"
   ]
  },
  {
   "cell_type": "markdown",
   "id": "3b5b36e2-0869-4708-ac12-f8fb7cf4c05a",
   "metadata": {},
   "source": [
    "# 2.Processing of Study_information data"
   ]
  },
  {
   "cell_type": "code",
   "execution_count": 97,
   "id": "afec8abe-6ef2-4ac9-be5a-c7172f390bc9",
   "metadata": {},
   "outputs": [
    {
     "name": "stdout",
     "output_type": "stream",
     "text": [
      "  user_id course_id course_join_time learn_process  price\n",
      "0     用户3     课程106  2020/4/21 10:11    width: 0%;    0.0\n",
      "1     用户3     课程136   2020/3/5 11:44    width: 1%;    0.0\n",
      "2     用户3     课程205  2018/9/10 18:17   width: 63%;    0.0\n",
      "3     用户4      课程26  2020/3/31 10:52    width: 0%;  319.0\n",
      "4     用户4      课程34  2020/3/31 10:52    width: 0%;  299.0\n"
     ]
    }
   ],
   "source": [
    "import pandas as pd\n",
    "import numpy as np\n",
    "\n",
    "# 加载数据\n",
    "file_path = r\"C:\\Users\\Jerry\\Desktop\\2024暑实习\\study_information.csv\"\n",
    "df = pd.read_csv(file_path, encoding='gbk')\n",
    "\n",
    "# 查看数据\n",
    "print(df.head())"
   ]
  },
  {
   "cell_type": "code",
   "execution_count": 99,
   "id": "2f7d41a9-2a4b-4f1f-a82b-deae3757c425",
   "metadata": {},
   "outputs": [
    {
     "name": "stdout",
     "output_type": "stream",
     "text": [
      "缺失值情况：\n",
      "user_id                0\n",
      "course_id              0\n",
      "course_join_time       0\n",
      "learn_process          0\n",
      "price               4238\n",
      "dtype: int64\n",
      "重复行情况：\n",
      "0\n"
     ]
    }
   ],
   "source": [
    "# 检查缺失值\n",
    "missing_values = df.isnull().sum()\n",
    "print(\"缺失值情况：\")\n",
    "print(missing_values)\n",
    "\n",
    "# 检查重复行\n",
    "duplicate_rows = df.duplicated().sum()\n",
    "print(\"重复行情况：\")\n",
    "print(duplicate_rows)\n",
    "\n",
    "# 如果没有缺失值和重复行，您可以跳过删除步骤\n",
    "if missing_values.sum() == 0 and duplicate_rows == 0:\n",
    "    print(\"数据中没有缺失值和重复行。\")\n",
    "else:\n",
    "    # 删除缺失值\n",
    "    df = df.dropna()\n",
    "\n",
    "    # 删除重复行\n",
    "    df = df.drop_duplicates()"
   ]
  },
  {
   "cell_type": "code",
   "execution_count": 103,
   "id": "3e3d1884-f4b4-4773-b8f8-c295338a343f",
   "metadata": {},
   "outputs": [
    {
     "name": "stdout",
     "output_type": "stream",
     "text": [
      "已删除缺失值和重复行，并保存处理结果。\n"
     ]
    }
   ],
   "source": [
    "# 保存处理结果\n",
    "task1_1_2_path = r\"C:\\Users\\Jerry\\Desktop\\2024暑实习\\task1_1_2_study_information.csv\"\n",
    "df.to_csv(task1_1_2_path, index=False, encoding='gbk')\n",
    "print(\"已删除缺失值和重复行，并保存处理结果。\")"
   ]
  },
  {
   "cell_type": "code",
   "execution_count": 107,
   "id": "3e57d09d-13a3-454f-bc09-968b6dcf4d34",
   "metadata": {},
   "outputs": [
    {
     "name": "stdout",
     "output_type": "stream",
     "text": [
      "  user_id course_id course_join_time learn_process  price\n",
      "0     用户3     课程106  2020/4/21 10:11    width: 0%;    0.0\n",
      "1     用户3     课程136   2020/3/5 11:44    width: 1%;    0.0\n",
      "2     用户3     课程205  2018/9/10 18:17   width: 63%;    0.0\n",
      "3     用户4      课程26  2020/3/31 10:52    width: 0%;  319.0\n",
      "4     用户4      课程34  2020/3/31 10:52    width: 0%;  299.0\n"
     ]
    }
   ],
   "source": [
    "# 加载处理后的文件并查看\n",
    "processed_file_path = r\"C:\\Users\\Jerry\\Desktop\\2024暑实习\\task1_1_2_study_information.csv\"\n",
    "processed_df = pd.read_csv(processed_file_path, encoding='gbk')\n",
    "print(processed_df.head())"
   ]
  },
  {
   "cell_type": "markdown",
   "id": "ec722ea6-5a8c-4e1d-93dd-545fdb196051",
   "metadata": {},
   "source": [
    "# 3.Processing of users data"
   ]
  },
  {
   "cell_type": "code",
   "execution_count": 115,
   "id": "d313936d-3d4c-4688-8240-42e398bd6555",
   "metadata": {},
   "outputs": [
    {
     "name": "stdout",
     "output_type": "stream",
     "text": [
      "   user_id   register_time recently_logged  number_of_classes_join  \\\n",
      "0  用户44251  2020/6/18 9:49  2020/6/18 9:49                       0   \n",
      "1  用户44250  2020/6/18 9:47  2020/6/18 9:48                       0   \n",
      "2  用户44249  2020/6/18 9:43  2020/6/18 9:43                       0   \n",
      "3  用户44248  2020/6/18 9:09  2020/6/18 9:09                       0   \n",
      "4  用户44247  2020/6/18 7:41  2020/6/18 8:15                       0   \n",
      "\n",
      "   number_of_classes_out learn_time school  \n",
      "0                      0      41.25    NaN  \n",
      "1                      0          0    NaN  \n",
      "2                      0      16.22    NaN  \n",
      "3                      0          0    NaN  \n",
      "4                      0        1.8    NaN  \n"
     ]
    }
   ],
   "source": [
    "# 加载数据\n",
    "file_path = r\"C:\\Users\\Jerry\\Desktop\\2024暑实习\\users.csv\"\n",
    "df = pd.read_csv(file_path, encoding='gbk')\n",
    "\n",
    "# 查看数据\n",
    "print(df.head())"
   ]
  },
  {
   "cell_type": "code",
   "execution_count": 117,
   "id": "5a5335bc-a6a6-4ac9-9fe9-76759396d186",
   "metadata": {},
   "outputs": [
    {
     "name": "stdout",
     "output_type": "stream",
     "text": [
      "缺失值情况：\n",
      "user_id                      67\n",
      "register_time                 0\n",
      "recently_logged               0\n",
      "number_of_classes_join        0\n",
      "number_of_classes_out         0\n",
      "learn_time                    0\n",
      "school                    33412\n",
      "dtype: int64\n",
      "重复行情况：\n",
      "3\n"
     ]
    }
   ],
   "source": [
    "# 检查缺失值\n",
    "missing_values = df.isnull().sum()\n",
    "print(\"缺失值情况：\")\n",
    "print(missing_values)\n",
    "\n",
    "# 检查重复行\n",
    "duplicate_rows = df.duplicated().sum()\n",
    "print(\"重复行情况：\")\n",
    "print(duplicate_rows)"
   ]
  },
  {
   "cell_type": "code",
   "execution_count": 119,
   "id": "3e8a4c78-6ac4-473c-ae60-6f954879027a",
   "metadata": {},
   "outputs": [],
   "source": [
    "# 如果没有缺失值和重复行，您可以跳过删除步骤\n",
    "if missing_values.sum() == 0 and duplicate_rows == 0:\n",
    "    print(\"数据中没有缺失值和重复行。\")\n",
    "else:\n",
    "    # 删除缺失值\n",
    "    df = df.dropna()\n",
    "\n",
    "    # 删除重复行\n",
    "    df = df.drop_duplicates()"
   ]
  },
  {
   "cell_type": "code",
   "execution_count": 127,
   "id": "426b6854-325e-402f-b816-0d8bf51ea5b3",
   "metadata": {},
   "outputs": [
    {
     "name": "stdout",
     "output_type": "stream",
     "text": [
      "已删除缺失值和重复行，并保存处理结果。\n"
     ]
    }
   ],
   "source": [
    "# 保存处理结果\n",
    "task1_1_3_path = r\"C:\\Users\\Jerry\\Desktop\\2024暑实习\\task1_1_3_users.csv\"\n",
    "df.to_csv(task1_1_3_path, index=False, encoding='gbk')\n",
    "print(\"已删除缺失值和重复行，并保存处理结果。\")"
   ]
  },
  {
   "cell_type": "code",
   "execution_count": 129,
   "id": "4d7a00b0-a626-4a31-922a-238763bd88cc",
   "metadata": {},
   "outputs": [
    {
     "name": "stdout",
     "output_type": "stream",
     "text": [
      "   user_id    register_time  recently_logged  number_of_classes_join  \\\n",
      "0  用户44164  2020/6/15 16:45  2020/6/16 16:42                       1   \n",
      "1  用户44165  2020/6/15 16:45  2020/6/16 12:28                       1   \n",
      "2  用户44166  2020/6/15 16:45  2020/6/17 21:47                       1   \n",
      "3  用户44167  2020/6/15 16:45  2020/6/15 20:06                       1   \n",
      "4  用户44168  2020/6/15 16:45  2020/6/16 23:34                       1   \n",
      "\n",
      "   number_of_classes_out learn_time      school  \n",
      "0                      0      61.35  广东轻工职业技术学院  \n",
      "1                      0      53.67  广东轻工职业技术学院  \n",
      "2                      0     234.07  广东轻工职业技术学院  \n",
      "3                      0     354.97  广东轻工职业技术学院  \n",
      "4                      0     170.65  广东轻工职业技术学院  \n"
     ]
    }
   ],
   "source": [
    "# 加载处理后的文件并查看\n",
    "processed_file_path = r\"C:\\Users\\Jerry\\Desktop\\2024暑实习\\task1_1_3_users.csv\"\n",
    "processed_df = pd.read_csv(processed_file_path, encoding='gbk')\n",
    "print(processed_df.head())"
   ]
  },
  {
   "cell_type": "markdown",
   "id": "cbc2ca12-0486-4644-83ef-6c7a0c6491ef",
   "metadata": {},
   "source": [
    "# Task1.2"
   ]
  },
  {
   "cell_type": "markdown",
   "id": "2524689c-4c79-440a-9a7f-6619143bd0c6",
   "metadata": {},
   "source": [
    "# 1.Perform the necessary processing of the \"--\" value of the recently_logged field in the user information table"
   ]
  },
  {
   "cell_type": "code",
   "execution_count": 148,
   "id": "dc0ccdda-bf52-4ec1-b01c-e5442a39704d",
   "metadata": {},
   "outputs": [
    {
     "name": "stdout",
     "output_type": "stream",
     "text": [
      "   user_id   register_time recently_logged  number_of_classes_join  \\\n",
      "0  用户44251  2020/6/18 9:49  2020/6/18 9:49                       0   \n",
      "1  用户44250  2020/6/18 9:47  2020/6/18 9:48                       0   \n",
      "2  用户44249  2020/6/18 9:43  2020/6/18 9:43                       0   \n",
      "3  用户44248  2020/6/18 9:09  2020/6/18 9:09                       0   \n",
      "4  用户44247  2020/6/18 7:41  2020/6/18 8:15                       0   \n",
      "\n",
      "   number_of_classes_out learn_time school  \n",
      "0                      0      41.25    NaN  \n",
      "1                      0          0    NaN  \n",
      "2                      0      16.22    NaN  \n",
      "3                      0          0    NaN  \n",
      "4                      0        1.8    NaN  \n",
      "5376\n",
      "已处理 recently_logged 字段的 '--' 值，并保存处理结果。\n",
      "   user_id   register_time recently_logged  number_of_classes_join  \\\n",
      "0  用户44251  2020/6/18 9:49  2020/6/18 9:49                       0   \n",
      "1  用户44250  2020/6/18 9:47  2020/6/18 9:48                       0   \n",
      "2  用户44249  2020/6/18 9:43  2020/6/18 9:43                       0   \n",
      "3  用户44248  2020/6/18 9:09  2020/6/18 9:09                       0   \n",
      "4  用户44247  2020/6/18 7:41  2020/6/18 8:15                       0   \n",
      "\n",
      "   number_of_classes_out learn_time school  \n",
      "0                      0      41.25    NaN  \n",
      "1                      0          0    NaN  \n",
      "2                      0      16.22    NaN  \n",
      "3                      0          0    NaN  \n",
      "4                      0        1.8    NaN  \n"
     ]
    }
   ],
   "source": [
    "import pandas as pd\n",
    "import numpy as np\n",
    "\n",
    "# 加载数据\n",
    "file_path = r\"C:\\Users\\Jerry\\Desktop\\2024暑实习\\users.csv\"\n",
    "df = pd.read_csv(file_path, encoding='gbk')\n",
    "\n",
    "# 查看数据\n",
    "print(df.head())\n",
    "\n",
    "# 将recently_logged字段的'--'值替换为NaN\n",
    "df['recently_logged'].replace('--', np.nan, inplace=True)\n",
    "\n",
    "# 检查替换后的缺失值情况\n",
    "print(df['recently_logged'].isnull().sum())\n",
    "\n",
    "# 保存处理结果\n",
    "task1_2_path = r\"C:\\Users\\Jerry\\Desktop\\2024暑实习\\task1_2_users.csv\"\n",
    "df.to_csv(task1_2_path, index=False, encoding='gbk')\n",
    "print(\"已处理 recently_logged 字段的 '--' 值，并保存处理结果。\")\n",
    "\n",
    "# 加载处理后的文件并查看\n",
    "processed_file_path = r\"C:\\Users\\Jerry\\Desktop\\2024暑实习\\task1_2_users.csv\"\n",
    "processed_df = pd.read_csv(processed_file_path, encoding='gbk')\n",
    "print(processed_df.head())"
   ]
  },
  {
   "cell_type": "markdown",
   "id": "e2470c76-ecea-4c73-abcf-5b8311968ddf",
   "metadata": {},
   "source": [
    "# Task 2.1"
   ]
  },
  {
   "cell_type": "markdown",
   "id": "af840643-0803-44e0-b39a-d58bf30cd706",
   "metadata": {},
   "source": [
    "# 1.Heat map of platform accesses by province and city respectively"
   ]
  },
  {
   "cell_type": "code",
   "execution_count": 296,
   "id": "00c6ec14-190f-4d35-aaa7-0291e0660727",
   "metadata": {},
   "outputs": [],
   "source": [
    "# 加载数据\n",
    "file_path = r\"C:\\Users\\Jerry\\Desktop\\2024暑实习\\login.csv\"\n",
    "df = pd.read_csv(file_path, encoding='gbk')"
   ]
  },
  {
   "cell_type": "code",
   "execution_count": 298,
   "id": "c68c4e6c-2aa9-408e-a7f1-3ac97327f101",
   "metadata": {},
   "outputs": [
    {
     "name": "stdout",
     "output_type": "stream",
     "text": [
      "login_place\n",
      "中国广东广州     27626\n",
      "中国广东       18509\n",
      "中国重庆       13163\n",
      "中国广东汕头     10146\n",
      "中国广东深圳      9098\n",
      "           ...  \n",
      "中国台湾新竹县        1\n",
      "挪威             1\n",
      "中国台湾南投县        1\n",
      "中国海南定安县        1\n",
      "瑞士             1\n",
      "Name: count, Length: 404, dtype: int64\n",
      "login_place_length\n",
      "1    387144\n",
      "Name: count, dtype: int64\n"
     ]
    }
   ],
   "source": [
    "# 查看 login_place 字段的值分布\n",
    "print(df['login_place'].value_counts())\n",
    "\n",
    "# 检查 login_place 字段中值的长度，以识别不符合预期格式的值\n",
    "df['login_place_length'] = df['login_place'].apply(lambda x: len(x.split()) if pd.notnull(x) else 0)\n",
    "\n",
    "# 查看不同长度的值的分布\n",
    "print(df['login_place_length'].value_counts())\n",
    "\n",
    "# 过滤掉长度不为 2 的值\n",
    "df_filtered = df[df['login_place_length'] == 2]\n",
    "\n",
    "# 提取省份和城市信息\n",
    "df_filtered['province'] = df_filtered['login_place'].apply(lambda x: x.split()[0])\n",
    "df_filtered['city'] = df_filtered['login_place'].apply(lambda x: x.split()[1])\n",
    "\n",
    "# 统计各省份和城市的登录次数\n",
    "province_counts = df_filtered['province'].value_counts().reset_index()\n",
    "province_counts.columns = ['province', 'count']\n",
    "\n",
    "city_counts = df_filtered['city'].value_counts().reset_index()\n",
    "city_counts.columns = ['city', 'count']"
   ]
  },
  {
   "cell_type": "code",
   "execution_count": 302,
   "id": "d6a9571a-146d-4a01-aa10-2e83398fa3aa",
   "metadata": {},
   "outputs": [
    {
     "name": "stdout",
     "output_type": "stream",
     "text": [
      "Collecting pyecharts\n",
      "  Downloading pyecharts-2.0.6-py3-none-any.whl.metadata (1.3 kB)\n",
      "Requirement already satisfied: jinja2 in d:\\anaconda\\lib\\site-packages (from pyecharts) (3.1.3)\n",
      "Collecting prettytable (from pyecharts)\n",
      "  Downloading prettytable-3.10.2-py3-none-any.whl.metadata (30 kB)\n",
      "Collecting simplejson (from pyecharts)\n",
      "  Downloading simplejson-3.19.2-cp311-cp311-win_amd64.whl.metadata (3.2 kB)\n",
      "Requirement already satisfied: MarkupSafe>=2.0 in d:\\anaconda\\lib\\site-packages (from jinja2->pyecharts) (2.1.3)\n",
      "Requirement already satisfied: wcwidth in d:\\anaconda\\lib\\site-packages (from prettytable->pyecharts) (0.2.5)\n",
      "Downloading pyecharts-2.0.6-py3-none-any.whl (149 kB)\n",
      "   ---------------------------------------- 0.0/149.4 kB ? eta -:--:--\n",
      "   -------- ------------------------------ 30.7/149.4 kB 660.6 kB/s eta 0:00:01\n",
      "   ---------------------------------------- 149.4/149.4 kB 1.8 MB/s eta 0:00:00\n",
      "Downloading prettytable-3.10.2-py3-none-any.whl (28 kB)\n",
      "Downloading simplejson-3.19.2-cp311-cp311-win_amd64.whl (75 kB)\n",
      "   ---------------------------------------- 0.0/75.3 kB ? eta -:--:--\n",
      "   ---------------------------------------- 75.3/75.3 kB 4.1 MB/s eta 0:00:00\n",
      "Installing collected packages: simplejson, prettytable, pyecharts\n",
      "Successfully installed prettytable-3.10.2 pyecharts-2.0.6 simplejson-3.19.2\n",
      "Note: you may need to restart the kernel to use updated packages.\n"
     ]
    }
   ],
   "source": [
    "pip install pyecharts"
   ]
  },
  {
   "cell_type": "code",
   "execution_count": 383,
   "id": "ff30df0d-cb98-4a22-905f-d5bfac35d566",
   "metadata": {},
   "outputs": [
    {
     "name": "stderr",
     "output_type": "stream",
     "text": [
      "C:\\Users\\Jerry\\AppData\\Local\\Temp\\ipykernel_9552\\3017029683.py:12: SettingWithCopyWarning: \n",
      "A value is trying to be set on a copy of a slice from a DataFrame.\n",
      "Try using .loc[row_indexer,col_indexer] = value instead\n",
      "\n",
      "See the caveats in the documentation: https://pandas.pydata.org/pandas-docs/stable/user_guide/indexing.html#returning-a-view-versus-a-copy\n",
      "  data_nei['province'] = data_nei['login_place'].apply(lambda x: x[2:5])\n",
      "C:\\Users\\Jerry\\AppData\\Local\\Temp\\ipykernel_9552\\3017029683.py:13: SettingWithCopyWarning: \n",
      "A value is trying to be set on a copy of a slice from a DataFrame.\n",
      "Try using .loc[row_indexer,col_indexer] = value instead\n",
      "\n",
      "See the caveats in the documentation: https://pandas.pydata.org/pandas-docs/stable/user_guide/indexing.html#returning-a-view-versus-a-copy\n",
      "  data_nei['city'] = data_nei['login_place'].apply(lambda x: x[5:])\n",
      "C:\\Users\\Jerry\\AppData\\Local\\Temp\\ipykernel_9552\\3017029683.py:15: SettingWithCopyWarning: \n",
      "A value is trying to be set on a copy of a slice from a DataFrame.\n",
      "Try using .loc[row_indexer,col_indexer] = value instead\n",
      "\n",
      "See the caveats in the documentation: https://pandas.pydata.org/pandas-docs/stable/user_guide/indexing.html#returning-a-view-versus-a-copy\n",
      "  data_hei['province'] = data_hei['login_place'].apply(lambda x: x[2:5])\n",
      "C:\\Users\\Jerry\\AppData\\Local\\Temp\\ipykernel_9552\\3017029683.py:16: SettingWithCopyWarning: \n",
      "A value is trying to be set on a copy of a slice from a DataFrame.\n",
      "Try using .loc[row_indexer,col_indexer] = value instead\n",
      "\n",
      "See the caveats in the documentation: https://pandas.pydata.org/pandas-docs/stable/user_guide/indexing.html#returning-a-view-versus-a-copy\n",
      "  data_hei['city'] = data_hei['login_place'].apply(lambda x: x[5:])\n",
      "C:\\Users\\Jerry\\AppData\\Local\\Temp\\ipykernel_9552\\3017029683.py:18: SettingWithCopyWarning: \n",
      "A value is trying to be set on a copy of a slice from a DataFrame.\n",
      "Try using .loc[row_indexer,col_indexer] = value instead\n",
      "\n",
      "See the caveats in the documentation: https://pandas.pydata.org/pandas-docs/stable/user_guide/indexing.html#returning-a-view-versus-a-copy\n",
      "  data_other['province'] = data_other['login_place'].apply(lambda x: x[2:4])\n",
      "C:\\Users\\Jerry\\AppData\\Local\\Temp\\ipykernel_9552\\3017029683.py:19: SettingWithCopyWarning: \n",
      "A value is trying to be set on a copy of a slice from a DataFrame.\n",
      "Try using .loc[row_indexer,col_indexer] = value instead\n",
      "\n",
      "See the caveats in the documentation: https://pandas.pydata.org/pandas-docs/stable/user_guide/indexing.html#returning-a-view-versus-a-copy\n",
      "  data_other['city'] = data_other['login_place'].apply(lambda x: x[4:])\n"
     ]
    },
    {
     "name": "stdout",
     "output_type": "stream",
     "text": [
      "   province  user_id  login_time  country    city   count\n",
      "13       广东   120887      120887   120887  120887  120887\n"
     ]
    },
    {
     "name": "stderr",
     "output_type": "stream",
     "text": [
      "C:\\Users\\Jerry\\AppData\\Local\\Temp\\ipykernel_9552\\3017029683.py:29: SettingWithCopyWarning: \n",
      "A value is trying to be set on a copy of a slice from a DataFrame.\n",
      "Try using .loc[row_indexer,col_indexer] = value instead\n",
      "\n",
      "See the caveats in the documentation: https://pandas.pydata.org/pandas-docs/stable/user_guide/indexing.html#returning-a-view-versus-a-copy\n",
      "  china_count['count'] = group_china['user_id']\n",
      "C:\\Users\\Jerry\\AppData\\Local\\Temp\\ipykernel_9552\\3017029683.py:54: SettingWithCopyWarning: \n",
      "A value is trying to be set on a copy of a slice from a DataFrame.\n",
      "Try using .loc[row_indexer,col_indexer] = value instead\n",
      "\n",
      "See the caveats in the documentation: https://pandas.pydata.org/pandas-docs/stable/user_guide/indexing.html#returning-a-view-versus-a-copy\n",
      "  final_guang[\"cities\"] = final_guang['city'] + '市'\n"
     ]
    },
    {
     "data": {
      "text/plain": [
       "'C:\\\\Users\\\\Jerry\\\\2024暑假实习\\\\城市.html'"
      ]
     },
     "execution_count": 383,
     "metadata": {},
     "output_type": "execute_result"
    }
   ],
   "source": [
    "import pandas as pd\n",
    "from pyecharts.charts import Map\n",
    "from pyecharts import options as opts\n",
    "\n",
    "# 加载数据\n",
    "file_path =  r\"C:\\Users\\Jerry\\Desktop\\2024暑实习\\login.csv\"\n",
    "data = pd.read_csv(file_path, encoding='gbk', on_bad_lines='skip')\n",
    "\n",
    "# 提取省份信息\n",
    "data['country'] = data['login_place'].apply(lambda x: x[0:2])\n",
    "data_nei = data.loc[data['login_place'].str.contains(\"内蒙古\")]\n",
    "data_nei['province'] = data_nei['login_place'].apply(lambda x: x[2:5])\n",
    "data_nei['city'] = data_nei['login_place'].apply(lambda x: x[5:])\n",
    "data_hei = data.loc[data['login_place'].str.contains(\"黑龙江\")]\n",
    "data_hei['province'] = data_hei['login_place'].apply(lambda x: x[2:5])\n",
    "data_hei['city'] = data_hei['login_place'].apply(lambda x: x[5:])\n",
    "data_other = data[~data['login_place'].str.contains(\"内蒙古|黑龙江\")]\n",
    "data_other['province'] = data_other['login_place'].apply(lambda x: x[2:4])\n",
    "data_other['city'] = data_other['login_place'].apply(lambda x: x[4:])\n",
    "total_data1 = pd.concat([data_nei, data_other], ignore_index=True)\n",
    "total_data2 = pd.concat([total_data1, data_hei], ignore_index=True)\n",
    "final_data = total_data2[['user_id', 'login_time', 'country', 'province', 'city']]\n",
    "final_data.to_csv('final_data.csv', index=False)\n",
    "\n",
    "data_china = final_data[final_data['country'].isin([\"中国\"])]\n",
    "\n",
    "group_china = data_china.groupby(by='province', as_index=False).count()\n",
    "china_count = group_china.iloc[1:, ]\n",
    "china_count['count'] = group_china['user_id']\n",
    "china_count.to_csv('china_count.csv')\n",
    "\n",
    "provinces = ['上海市', '云南省', '内蒙古自治区', '北京市', '台湾省', '吉林省', '四川省', '天津市', '宁夏回族自治区', '安徽省', '山东省', '山西省', '广东省', '广西壮族自治区', '新疆维吾尔自治区', '江苏省', '江西省', '河北省', '河南省', '浙江省', '海南省', '湖北省', '湖南省', '澳门特别行政区', '甘肃省', '福建省', '西藏自治区', '贵州省', '辽宁省', '重庆市', '陕西省', '青海省', '香港特别行政区', '黑龙江省']\n",
    "\n",
    "values = list(china_count['count'])\n",
    "data = [[provinces[i], values[i]] for i in range(len(provinces))]\n",
    "\n",
    "map_ = Map()\n",
    "map_.add(series_name=\"中国各省份平台登录次数\", data_pair=data, maptype='china')\n",
    "map_.set_global_opts(\n",
    "    visualmap_opts=opts.VisualMapOpts(max_=max(values)),\n",
    "    toolbox_opts=opts.ToolboxOpts()\n",
    ")\n",
    "\n",
    "map_.render(\"省份.html\")\n",
    "\n",
    "top_one = china_count.sort_values(by='count', ascending=False).head(1)\n",
    "print(top_one)\n",
    "\n",
    "# 广东\n",
    "data_guang = final_data[final_data['province'].isin([\"广东\"])]\n",
    "count_guang = data_guang.groupby(by='city', as_index=False).count()\n",
    "final_guang = count_guang.iloc[1:, ]\n",
    "\n",
    "final_guang[\"cities\"] = final_guang['city'] + '市'\n",
    "\n",
    "count_data = list(final_guang['user_id'])\n",
    "city_data = list(final_guang['cities'])\n",
    "data = [[city_data[i], count_data[i]] for i in range(len(city_data))]\n",
    "\n",
    "map_ = Map()\n",
    "map_.add(\"广东各城市平台登录次数热力地图\", data, '广东')\n",
    "map_.set_global_opts(\n",
    "    visualmap_opts=opts.VisualMapOpts(max_=max(count_data)),\n",
    "    toolbox_opts=opts.ToolboxOpts()\n",
    ")\n",
    "map_.render(\"城市.html\")\n"
   ]
  },
  {
   "cell_type": "markdown",
   "id": "8c197efc-db37-458e-93b8-70f2cfb64f97",
   "metadata": {},
   "source": [
    "# Task 2.2"
   ]
  },
  {
   "cell_type": "markdown",
   "id": "d0324540-6d5e-44a3-9af9-5e2f8ec2efe0",
   "metadata": {},
   "source": [
    "# 1.Plot the number of user logins on weekdays and non-weekdays as a bar chart."
   ]
  },
  {
   "cell_type": "code",
   "execution_count": 203,
   "id": "6d39f0fc-ffbb-4a1f-9d8d-3c273094c318",
   "metadata": {},
   "outputs": [],
   "source": [
    "import pandas as pd\n",
    "import numpy as np\n",
    "\n",
    "# 加载数据\n",
    "file_path = r\"C:\\Users\\Jerry\\Desktop\\2024暑实习\\login.csv\"\n",
    "df = pd.read_csv(file_path, encoding='gbk')"
   ]
  },
  {
   "cell_type": "code",
   "execution_count": 205,
   "id": "650212ed-b746-4b09-8360-d046160d0cec",
   "metadata": {},
   "outputs": [],
   "source": [
    "# 提取日期和时间信息\n",
    "df['login_time'] = pd.to_datetime(df['login_time'], errors='coerce')\n",
    "df['date'] = df['login_time'].dt.date\n",
    "df['time'] = df['login_time'].dt.hour"
   ]
  },
  {
   "cell_type": "code",
   "execution_count": 207,
   "id": "86c9f2b6-4be5-46c7-9b24-7f4e2b694fe5",
   "metadata": {},
   "outputs": [],
   "source": [
    "# 区分工作日和非工作日\n",
    "df['weekday'] = df['login_time'].dt.weekday\n",
    "df['is_weekday'] = df['weekday'].apply(lambda x: 1 if x < 5 else 0)"
   ]
  },
  {
   "cell_type": "code",
   "execution_count": 209,
   "id": "f9cc4ec6-ea11-4b30-9571-e2619fcdcde6",
   "metadata": {},
   "outputs": [],
   "source": [
    "# 分别统计工作日和非工作日各时段的登录次数\n",
    "weekday_counts = df[df['is_weekday'] == 1]['time'].value_counts().sort_index()\n",
    "weekend_counts = df[df['is_weekday'] == 0]['time'].value_counts().sort_index()"
   ]
  },
  {
   "cell_type": "code",
   "execution_count": 215,
   "id": "4b026f12-9f19-4e7a-b9cc-62852829b278",
   "metadata": {},
   "outputs": [
    {
     "data": {
      "image/png": "[encoded data removed]",
      "text/plain": [
       "<Figure size 1000x500 with 1 Axes>"
      ]
     },
     "metadata": {},
     "output_type": "display_data"
    }
   ],
   "source": [
    "import matplotlib.pyplot as plt\n",
    "\n",
    "# 绘制工作日登录次数柱状图\n",
    "plt.figure(figsize=(10, 5))\n",
    "plt.bar(weekday_counts.index, weekday_counts.values, color='blue', alpha=0.7)\n",
    "plt.xlabel('Hour of Day')\n",
    "plt.ylabel('Login Count')\n",
    "plt.title('Login Count by Hour on Weekdays')\n",
    "plt.xticks(range(0, 24))\n",
    "plt.grid(True)\n",
    "plt.savefig(r\"C:\\Users\\Jerry\\Desktop\\2024暑实习\\weekday_login_count.png\")\n",
    "plt.show()\n"
   ]
  },
  {
   "cell_type": "code",
   "execution_count": 213,
   "id": "37dbc731-9d17-48eb-a1eb-89fb27fd2511",
   "metadata": {},
   "outputs": [
    {
     "data": {
      "image/png": "[encoded data removed]",
      "text/plain": [
       "<Figure size 1000x500 with 1 Axes>"
      ]
     },
     "metadata": {},
     "output_type": "display_data"
    }
   ],
   "source": [
    "# 绘制非工作日登录次数柱状图\n",
    "plt.figure(figsize=(10, 5))\n",
    "plt.bar(weekend_counts.index, weekend_counts.values, color='orange', alpha=0.7)\n",
    "plt.xlabel('Hour of Day')\n",
    "plt.ylabel('Login Count')\n",
    "plt.title('Login Count by Hour on Weekends')\n",
    "plt.xticks(range(0, 24))\n",
    "plt.grid(True)\n",
    "plt.savefig(r\"C:\\Users\\Jerry\\Desktop\\2024暑实习\\weekend_login_count.png\")\n",
    "plt.show()"
   ]
  },
  {
   "cell_type": "markdown",
   "id": "ab86c34b-fe67-4bd6-9014-14760db1eadd",
   "metadata": {},
   "source": [
    "# Task2.3"
   ]
  },
  {
   "cell_type": "markdown",
   "id": "a29b5ae3-e2d7-4087-aa44-c9cfc3a9d1a9",
   "metadata": {},
   "source": [
    "# 1.Calculate the churn rate of platform users"
   ]
  },
  {
   "cell_type": "code",
   "execution_count": 227,
   "id": "c904fedb-e899-42a4-8d5e-9cf122b67983",
   "metadata": {},
   "outputs": [
    {
     "name": "stdout",
     "output_type": "stream",
     "text": [
      "   user_id   register_time recently_logged  number_of_classes_join  \\\n",
      "0  用户44251  2020/6/18 9:49  2020/6/18 9:49                       0   \n",
      "1  用户44250  2020/6/18 9:47  2020/6/18 9:48                       0   \n",
      "2  用户44249  2020/6/18 9:43  2020/6/18 9:43                       0   \n",
      "3  用户44248  2020/6/18 9:09  2020/6/18 9:09                       0   \n",
      "4  用户44247  2020/6/18 7:41  2020/6/18 8:15                       0   \n",
      "\n",
      "   number_of_classes_out learn_time school  \n",
      "0                      0      41.25    NaN  \n",
      "1                      0          0    NaN  \n",
      "2                      0      16.22    NaN  \n",
      "3                      0          0    NaN  \n",
      "4                      0        1.8    NaN  \n"
     ]
    }
   ],
   "source": [
    "import pandas as pd\n",
    "import numpy as np\n",
    "\n",
    "# 加载数据\n",
    "file_path = r\"C:\\Users\\Jerry\\Desktop\\2024暑实习\\users.csv\"\n",
    "df = pd.read_csv(file_path, encoding='gbk')\n",
    "\n",
    "# 查看数据\n",
    "print(df.head())"
   ]
  },
  {
   "cell_type": "code",
   "execution_count": 257,
   "id": "2bd66695-b4aa-49ac-a6bf-0466852ce64b",
   "metadata": {},
   "outputs": [],
   "source": [
    "# 提取最近登录时间\n",
    "df['recently_logged'] = pd.to_datetime(df['recently_logged'], errors='coerce')\n",
    "\n",
    "# 获取每个用户的最近访问时间\n",
    "latest_login = df[['user_id', 'recently_logged']].dropna()\n",
    "\n",
    "# 设置数据观察窗口截止时间\n",
    "T_end = pd.to_datetime('2020-09-01')  # 设定截止时间为2020-09-01"
   ]
  },
  {
   "cell_type": "code",
   "execution_count": 259,
   "id": "4ca121a7-4aea-4482-a997-f865899c3006",
   "metadata": {},
   "outputs": [],
   "source": [
    "# 计算 σ_i\n",
    "latest_login['sigma_i'] = (T_end - latest_login['recently_logged']).dt.days\n",
    "\n",
    "# 判断用户是否为流失用户\n",
    "latest_login['is_lost'] = latest_login['sigma_i'].apply(lambda x: 1 if x > 90 else 0)\n",
    "\n",
    "# 计算平台用户的流失率\n",
    "lost_rate = latest_login['is_lost'].mean()"
   ]
  },
  {
   "cell_type": "code",
   "execution_count": 261,
   "id": "a1f4bd58-3407-4397-b100-39bb757d7307",
   "metadata": {},
   "outputs": [
    {
     "name": "stdout",
     "output_type": "stream",
     "text": [
      "0.9060456668396472\n"
     ]
    }
   ],
   "source": [
    "print(lost_rate)"
   ]
  },
  {
   "cell_type": "markdown",
   "id": "b5795049-3e9c-4bba-99d4-08d0ecadc7cd",
   "metadata": {},
   "source": [
    "# Task 3.1"
   ]
  },
  {
   "cell_type": "markdown",
   "id": "5fdc29d0-361c-4c4b-83b4-49c9eca94fca",
   "metadata": {},
   "source": [
    "# 1.Calculate the popularity of each course, list the top 10 most popular courses and plot the corresponding bar charts."
   ]
  },
  {
   "cell_type": "code",
   "execution_count": 264,
   "id": "cd6dd543-c533-4cdb-92eb-e38a41b71b2e",
   "metadata": {},
   "outputs": [
    {
     "name": "stdout",
     "output_type": "stream",
     "text": [
      "  user_id course_id course_join_time learn_process  price\n",
      "0     用户3     课程106  2020/4/21 10:11    width: 0%;    0.0\n",
      "1     用户3     课程136   2020/3/5 11:44    width: 1%;    0.0\n",
      "2     用户3     课程205  2018/9/10 18:17   width: 63%;    0.0\n",
      "3     用户4      课程26  2020/3/31 10:52    width: 0%;  319.0\n",
      "4     用户4      课程34  2020/3/31 10:52    width: 0%;  299.0\n"
     ]
    }
   ],
   "source": [
    "import pandas as pd\n",
    "\n",
    "# 加载数据\n",
    "file_path = r\"C:\\Users\\Jerry\\Desktop\\2024暑实习\\study_information.csv\"\n",
    "df = pd.read_csv(file_path, encoding='gbk')\n",
    "\n",
    "# 查看数据\n",
    "print(df.head())"
   ]
  },
  {
   "cell_type": "code",
   "execution_count": 266,
   "id": "2e1198ab-c572-4435-a23b-f92daddaa6c4",
   "metadata": {},
   "outputs": [],
   "source": [
    "# 统计每门课程的参与人数\n",
    "course_counts = df['course_id'].value_counts().reset_index()\n",
    "course_counts.columns = ['course_id', 'participant_count']"
   ]
  },
  {
   "cell_type": "code",
   "execution_count": 268,
   "id": "2deef981-0423-4131-b82e-4c6d7cf6867a",
   "metadata": {},
   "outputs": [],
   "source": [
    "# 计算受欢迎程度\n",
    "Q_max = course_counts['participant_count'].max()\n",
    "Q_min = course_counts['participant_count'].min()\n",
    "\n",
    "course_counts['popularity'] = (course_counts['participant_count'] - Q_min) / (Q_max - Q_min)"
   ]
  },
  {
   "cell_type": "code",
   "execution_count": 270,
   "id": "c9315e16-c5b0-4294-bfcd-076fe466af32",
   "metadata": {},
   "outputs": [],
   "source": [
    "# 列出最受欢迎的前 10 门课程\n",
    "top_10_courses = course_counts.sort_values(by='popularity', ascending=False).head(10)"
   ]
  },
  {
   "cell_type": "code",
   "execution_count": 276,
   "id": "c1525540-8b03-4294-9cf2-39f8ddb1733f",
   "metadata": {},
   "outputs": [
    {
     "data": {
      "image/png": "[encoded data removed]",
      "text/plain": [
       "<Figure size 1200x600 with 1 Axes>"
      ]
     },
     "metadata": {},
     "output_type": "display_data"
    }
   ],
   "source": [
    "import matplotlib.pyplot as plt\n",
    "import matplotlib.font_manager as fm\n",
    "\n",
    "# 设置支持中文的字体\n",
    "zh_font_path = 'C:/Windows/Fonts/simsun.ttc'  # 请替换为系统中实际存在的字体路径\n",
    "zh_font = fm.FontProperties(fname=zh_font_path)\n",
    "\n",
    "# 绘制柱状图\n",
    "plt.figure(figsize=(12, 6))\n",
    "plt.bar(top_10_courses['course_id'], top_10_courses['popularity'], color='skyblue')\n",
    "plt.xlabel('Course ID', fontproperties=zh_font)\n",
    "plt.ylabel('Popularity', fontproperties=zh_font)\n",
    "plt.title('Top 10 Most Popular Courses', fontproperties=zh_font)\n",
    "plt.xticks(rotation=45, fontproperties=zh_font)\n",
    "plt.grid(True)\n",
    "plt.show()"
   ]
  },
  {
   "cell_type": "markdown",
   "id": "25b5ef32-f111-486f-a353-fe12b7b496bd",
   "metadata": {},
   "source": [
    "# Task3.2"
   ]
  },
  {
   "cell_type": "markdown",
   "id": "f63153c2-3a34-47ef-a4cd-fd5204bed8f8",
   "metadata": {},
   "source": [
    "# 1.Recommend 3 courses for the 5 users with the highest total learning progress."
   ]
  },
  {
   "cell_type": "code",
   "execution_count": 281,
   "id": "0da8853f-0009-4a3e-8053-56a2fcdaaa77",
   "metadata": {},
   "outputs": [
    {
     "name": "stdout",
     "output_type": "stream",
     "text": [
      "  user_id course_id course_join_time learn_process  price\n",
      "0     用户3     课程106  2020/4/21 10:11    width: 0%;    0.0\n",
      "1     用户3     课程136   2020/3/5 11:44    width: 1%;    0.0\n",
      "2     用户3     课程205  2018/9/10 18:17   width: 63%;    0.0\n",
      "3     用户4      课程26  2020/3/31 10:52    width: 0%;  319.0\n",
      "4     用户4      课程34  2020/3/31 10:52    width: 0%;  299.0\n",
      "course_id  课程0  课程1  课程10  课程100  课程101  课程102  课程103  课程104  课程105  课程106  \\\n",
      "user_id                                                                      \n",
      "用户10         0    0     0      0      0      0      0      0      0      0   \n",
      "用户100        0    0     0      0      0      0      0      0      0      0   \n",
      "用户10000      0    0     0      0      0      0      0      0      0      0   \n",
      "用户10001      0    0     0      0      0      0      0      0      0      0   \n",
      "用户10002      0    0     0      0      0      0      0      0      0      0   \n",
      "...        ...  ...   ...    ...    ...    ...    ...    ...    ...    ...   \n",
      "用户9993       0    0     0      0      0      0      0      0      0      0   \n",
      "用户9994       0    0     0      0      0      0      0      0      0      0   \n",
      "用户9995       0    0     0      0      0      0      0      0      0      0   \n",
      "用户9996       0    0     0      0      1      0      0      0      0      0   \n",
      "用户9999       0    0     0      0      0      0      0      0      0      0   \n",
      "\n",
      "course_id  ...  课程90  课程91  课程92  课程93  课程94  课程95  课程96  课程97  课程98  课程99  \n",
      "user_id    ...                                                              \n",
      "用户10       ...     0     0     0     0     0     0     0     0     0     0  \n",
      "用户100      ...     0     0     0     0     0     0     0     0     0     0  \n",
      "用户10000    ...     0     0     0     0     0     0     0     0     0     0  \n",
      "用户10001    ...     0     0     0     0     0     0     0     0     0     0  \n",
      "用户10002    ...     0     0     0     0     0     0     0     0     0     0  \n",
      "...        ...   ...   ...   ...   ...   ...   ...   ...   ...   ...   ...  \n",
      "用户9993     ...     0     0     0     0     0     0     0     0     0     0  \n",
      "用户9994     ...     0     0     0     0     0     0     0     0     0     0  \n",
      "用户9995     ...     0     0     0     0     0     0     0     0     0     0  \n",
      "用户9996     ...     0     0     0     0     0     0     0     0     0     0  \n",
      "用户9999     ...     0     0     0     0     0     0     0     0     0     0  \n",
      "\n",
      "[40807 rows x 241 columns]\n"
     ]
    }
   ],
   "source": [
    "import pandas as pd\n",
    "import numpy as np\n",
    "\n",
    "# 加载数据\n",
    "file_path = r\"C:\\Users\\Jerry\\Desktop\\2024暑实习\\study_information.csv\"\n",
    "df = pd.read_csv(file_path, encoding='gbk')\n",
    "\n",
    "# 查看数据\n",
    "print(df.head())\n",
    "\n",
    "# 构建用户和课程的关系表\n",
    "user_course_matrix = df.pivot_table(index='user_id', columns='course_id', values='learn_process', aggfunc='count', fill_value=0)\n",
    "user_course_matrix = user_course_matrix.astype(bool).astype(int)\n",
    "print(user_course_matrix)"
   ]
  },
  {
   "cell_type": "code",
   "execution_count": 289,
   "id": "133a7cd3-5913-4095-a2e9-aca4c7e88247",
   "metadata": {},
   "outputs": [
    {
     "name": "stdout",
     "output_type": "stream",
     "text": [
      "course_id       课程0       课程1      课程10     课程100     课程101     课程102  \\\n",
      "course_id                                                               \n",
      "课程0        1.000000  0.707107  0.119523  0.632456  0.000000  0.816497   \n",
      "课程1        0.707107  1.000000  0.084515  0.447214  0.022774  0.577350   \n",
      "课程10       0.119523  0.084515  1.000000  0.151186  0.007699  0.097590   \n",
      "课程100      0.632456  0.447214  0.151186  1.000000  0.020370  0.774597   \n",
      "课程101      0.000000  0.022774  0.007699  0.020370  1.000000  0.000000   \n",
      "...             ...       ...       ...       ...       ...       ...   \n",
      "课程95       0.065938  0.046625  0.346769  0.083406  0.008495  0.053838   \n",
      "课程96       0.046932  0.066372  0.179504  0.089048  0.045348  0.038320   \n",
      "课程97       0.052852  0.074744  0.214777  0.066853  0.047663  0.043153   \n",
      "课程98       0.059028  0.062609  0.134049  0.074665  0.127378  0.048196   \n",
      "课程99       0.051571  0.072932  0.221901  0.097849  0.046508  0.084215   \n",
      "\n",
      "course_id     课程103     课程104     课程105     课程106  ...      课程90      课程91  \\\n",
      "course_id                                          ...                       \n",
      "课程0        1.000000  1.000000  0.408248  0.000000  ...  0.000000  0.000000   \n",
      "课程1        0.707107  0.707107  0.288675  0.000000  ...  0.000000  0.000000   \n",
      "课程10       0.119523  0.119523  0.097590  0.008787  ...  0.000000  0.000000   \n",
      "课程100      0.632456  0.632456  0.258199  0.000000  ...  0.000000  0.000000   \n",
      "课程101      0.000000  0.000000  0.000000  0.000000  ...  0.000000  0.000000   \n",
      "...             ...       ...       ...       ...  ...       ...       ...   \n",
      "课程95       0.065938  0.065938  0.053838  0.000000  ...  0.093250  0.000000   \n",
      "课程96       0.046932  0.046932  0.038320  0.010352  ...  0.066372  0.000000   \n",
      "课程97       0.052852  0.052852  0.043153  0.003886  ...  0.074744  0.000000   \n",
      "课程98       0.059028  0.059028  0.024098  0.080287  ...  0.041739  0.041739   \n",
      "课程99       0.051571  0.051571  0.042108  0.003792  ...  0.072932  0.000000   \n",
      "\n",
      "course_id      课程92      课程93      课程94      课程95      课程96      课程97  \\\n",
      "course_id                                                               \n",
      "课程0        0.000000  0.000000  0.043980  0.065938  0.046932  0.052852   \n",
      "课程1        0.000000  0.000000  0.031099  0.046625  0.066372  0.074744   \n",
      "课程10       0.169031  0.000000  0.173468  0.346769  0.179504  0.214777   \n",
      "课程100      0.000000  0.000000  0.055631  0.083406  0.089048  0.066853   \n",
      "课程101      0.045549  0.000000  0.029746  0.008495  0.045348  0.047663   \n",
      "...             ...       ...       ...       ...       ...       ...   \n",
      "课程95       0.000000  0.000000  0.281295  1.000000  0.129974  0.146367   \n",
      "课程96       0.066372  0.000000  0.101140  0.129974  1.000000  0.828470   \n",
      "课程97       0.074744  0.000000  0.095301  0.146367  0.828470  1.000000   \n",
      "课程98       0.000000  0.041739  0.264798  0.159580  0.440482  0.486678   \n",
      "课程99       0.072932  0.000000  0.099796  0.156423  0.832600  0.937612   \n",
      "\n",
      "course_id      课程98      课程99  \n",
      "course_id                      \n",
      "课程0        0.059028  0.051571  \n",
      "课程1        0.062609  0.072932  \n",
      "课程10       0.134049  0.221901  \n",
      "课程100      0.074665  0.097849  \n",
      "课程101      0.127378  0.046508  \n",
      "...             ...       ...  \n",
      "课程95       0.159580  0.156423  \n",
      "课程96       0.440482  0.832600  \n",
      "课程97       0.486678  0.937612  \n",
      "课程98       1.000000  0.480975  \n",
      "课程99       0.480975  1.000000  \n",
      "\n",
      "[241 rows x 241 columns]\n"
     ]
    }
   ],
   "source": [
    "from sklearn.metrics.pairwise import cosine_similarity\n",
    "\n",
    "# 计算课程之间的相似度\n",
    "course_similarity = cosine_similarity(user_course_matrix.T)\n",
    "course_similarity_df = pd.DataFrame(course_similarity, index=user_course_matrix.columns, columns=user_course_matrix.columns)\n",
    "\n",
    "print(course_similarity_df)"
   ]
  },
  {
   "cell_type": "code",
   "execution_count": 285,
   "id": "3156f280-90ab-4512-bd1d-f4b3eeda621e",
   "metadata": {},
   "outputs": [],
   "source": [
    "# 获取学习进度最高的 5 名用户\n",
    "top_5_users = df.groupby('user_id')['learn_process'].sum().sort_values(ascending=False).head(5).index\n",
    "\n",
    "# 推荐课程\n",
    "recommendations = {}\n",
    "\n",
    "for user in top_5_users:\n",
    "    user_courses = user_course_matrix.loc[user]\n",
    "    user_courses = user_courses[user_courses > 0].index\n",
    "    similar_courses = course_similarity_df[user_courses].sum(axis=1).sort_values(ascending=False)\n",
    "    recommended_courses = [course for course in similar_courses.index if course not in user_courses][:3]\n",
    "    recommendations[user] = recommended_courses"
   ]
  },
  {
   "cell_type": "code",
   "execution_count": 287,
   "id": "e34f5923-c95c-43d5-bc59-d701a7c43be5",
   "metadata": {},
   "outputs": [
    {
     "name": "stdout",
     "output_type": "stream",
     "text": [
      "为用户 用户15586 推荐课程: ['课程47', '课程236', '课程19']\n",
      "为用户 用户14943 推荐课程: ['课程47', '课程236', '课程19']\n",
      "为用户 用户13890 推荐课程: ['课程58', '课程224', '课程220']\n",
      "为用户 用户13893 推荐课程: ['课程58', '课程224', '课程32']\n",
      "为用户 用户13888 推荐课程: ['课程45', '课程58', '课程153']\n"
     ]
    }
   ],
   "source": [
    "# 打印推荐结果\n",
    "for user, courses in recommendations.items():\n",
    "    print(f\"为用户 {user} 推荐课程: {courses}\")"
   ]
  },
  {
   "cell_type": "code",
   "execution_count": null,
   "id": "51bba77c-5c37-4b1b-ba71-dbaa6582bf07",
   "metadata": {},
   "outputs": [],
   "source": []
  }
 ],
 "metadata": {
  "kernelspec": {
   "display_name": "Python 3 (ipykernel)",
   "language": "python",
   "name": "python3"
  },
  "language_info": {
   "codemirror_mode": {
    "name": "ipython",
    "version": 3
   },
   "file_extension": ".py",
   "mimetype": "text/x-python",
   "name": "python",
   "nbconvert_exporter": "python",
   "pygments_lexer": "ipython3",
   "version": "3.11.7"
  }
 },
 "nbformat": 4,
 "nbformat_minor": 5
}
